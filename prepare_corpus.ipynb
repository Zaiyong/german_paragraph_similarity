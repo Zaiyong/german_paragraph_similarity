{
 "cells": [
  {
   "cell_type": "code",
   "execution_count": 77,
   "metadata": {},
   "outputs": [],
   "source": [
    "import pandas as pd\n",
    "import json\n",
    "import os"
   ]
  },
  {
   "cell_type": "code",
   "execution_count": 78,
   "metadata": {},
   "outputs": [],
   "source": [
    "df = pd.read_csv('data/data-1582629120408.csv')"
   ]
  },
  {
   "cell_type": "code",
   "execution_count": 79,
   "metadata": {},
   "outputs": [],
   "source": [
    "list1=df.description.tolist()"
   ]
  },
  {
   "cell_type": "code",
   "execution_count": 80,
   "metadata": {},
   "outputs": [],
   "source": [
    "for file in os.listdir('./data'):\n",
    "    if file.endswith('.json'):\n",
    "        json_file = json.loads(open(os.path.join('data',file)).read())\n",
    "        for key in json_file.keys():\n",
    "            for p in json_file[key]:\n",
    "                list1.append(p['description'])"
   ]
  },
  {
   "cell_type": "code",
   "execution_count": 81,
   "metadata": {},
   "outputs": [],
   "source": [
    "clean_project_list=list(set(list1))"
   ]
  },
  {
   "cell_type": "code",
   "execution_count": 82,
   "metadata": {},
   "outputs": [
    {
     "data": {
      "text/plain": [
       "'\\n\\nProjektbeschreibung\\n\\n\\n\\n\\t\\tStart: 09.03.2020\\n\\r\\nDauer: 01.01.2021\\n\\n\\n\\r\\nAufgabe:\\n\\n\\n\\r\\n* Bindeglied zwischen Business und IT Analyse und Ausformulierung von fachlichen Anforderungen (Capas), inklusive Testfälle und Akzeptanzkriterien \\n\\r\\n* Abstimmung mit Schnittstellenpartnern \\n\\r\\n* Schneiden und Ausformulieren von User Stories als Vorlage für die Entwicklung von Applikationen und automatisierten Tests \\n\\r\\n* Erstellung und Priorisierung des Produkt Backlogs \\n\\r\\n* Refinement des Backlogs \\n\\r\\n* Dokumentation von technischen und fachlichen Lösungskonzepten \\n\\r\\n* Berücksichtigung der technischen Architektur im Hinblick auf die Umsetzbarkeit der fachlichen Anforderungen\\n\\n\\n\\r\\nAnforderung:\\n\\n\\n\\r\\nMuss-Anforderungen: \\n\\n\\n\\r\\n* Erfahrung bei der Erstellung und Ausformulierung von User Stories und deren Refinement \\n\\r\\n* Erfahrung im Herunterbrechen größerer Anforderungen zu konkreten Stories, die im Sprint von einem Team abgearbeitet werden können \\n\\r\\n* Erfahrung bzgl. Methoden im Bereich agiler Business Analyse/agilem Requirement Engineering \\n\\r\\n* Technisches Verständnis hinsichtlich Microservices- und Cloud-Architektur sowie Massendaten (Batchverarbeitung)\\n\\r\\n* Sichere Nutzung der Tools JIRA und Confluence \\n\\n\\n\\r\\nSoll-Anforderungen: \\n\\n\\n\\r\\n* Ausgeprägtes analytisches Denkvermögen und strukturierte Arbeitsweise sowie Team- und Kommunikationsfähigkeit und initiative Selbstständigkeit (Pull) \\n\\r\\n* Kritische Analyse komplexer Anforderungen im Hinblick auf Reduktion der Komplexität \\n\\r\\n* Erfahrungen mit der Beratung, Moderation und Kommunikation im Rahmen des Entwicklungsteams \\n\\r\\n* Erfahrungen im Umgang mit JSON oder ähnlichen Schnittstellenformaten \\n\\r\\n* Erfahrung mit agilen Methodiken, in eigenverantwortlichen Teams im Kontext von Großprojekten\\n\\n\\n\\r\\nStart: 03 .2020\\n\\r\\nDauer: 01 .2021\\n\\t\\n\\n'"
      ]
     },
     "execution_count": 82,
     "metadata": {},
     "output_type": "execute_result"
    }
   ],
   "source": [
    "clean_project_list[2011]"
   ]
  },
  {
   "cell_type": "code",
   "execution_count": 83,
   "metadata": {},
   "outputs": [],
   "source": [
    "def clean_description(description):\n",
    "    return description\\\n",
    "        .replace('\\n', ' ')\\\n",
    "        .replace('\\r', ' ')\\\n",
    "        .replace('\\\"', ' ')\\\n",
    "        .replace('.', ' ')\\\n",
    "        .replace(',', ' ')\\\n",
    "        .replace(';', ' ')\\\n",
    "        .replace('/', ' ')\\\n",
    "        .replace('*', ' ')\\\n",
    "        .replace('(', ' ')\\\n",
    "        .replace(')', ' ')\\\n",
    "        .replace('\\t', ' ')\\\n",
    "        .strip()"
   ]
  },
  {
   "cell_type": "code",
   "execution_count": 84,
   "metadata": {},
   "outputs": [],
   "source": [
    "def remove_multiple_space(mystring):\n",
    "    return ' '.join(mystring.split())"
   ]
  },
  {
   "cell_type": "code",
   "execution_count": 85,
   "metadata": {},
   "outputs": [],
   "source": [
    "for i in range(len(clean_project_list)):\n",
    "    clean_project_list[i] = clean_description(clean_project_list[i])"
   ]
  },
  {
   "cell_type": "code",
   "execution_count": 86,
   "metadata": {},
   "outputs": [],
   "source": [
    "for i in range(len(clean_project_list)):\n",
    "    clean_project_list[i] = remove_multiple_space(clean_project_list[i])"
   ]
  },
  {
   "cell_type": "code",
   "execution_count": 87,
   "metadata": {},
   "outputs": [],
   "source": [
    "out=open('corpus.txt', 'w', encoding=\"utf-8\")\n",
    "for text in clean_project_list:\n",
    "    out.write(text)\n",
    "    out.write('\\n')\n",
    "out.close()"
   ]
  },
  {
   "cell_type": "code",
   "execution_count": null,
   "metadata": {},
   "outputs": [],
   "source": []
  }
 ],
 "metadata": {
  "kernelspec": {
   "display_name": "Python 3",
   "language": "python",
   "name": "python3"
  },
  "language_info": {
   "codemirror_mode": {
    "name": "ipython",
    "version": 3
   },
   "file_extension": ".py",
   "mimetype": "text/x-python",
   "name": "python",
   "nbconvert_exporter": "python",
   "pygments_lexer": "ipython3",
   "version": "3.7.6"
  }
 },
 "nbformat": 4,
 "nbformat_minor": 4
}
