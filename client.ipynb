{
 "cells": [
  {
   "cell_type": "code",
   "execution_count": 30,
   "metadata": {},
   "outputs": [],
   "source": [
    "import spacy\n",
    "import re\n",
    "from gensim.models import Doc2Vec\n",
    "from numpy import dot\n",
    "from numpy.linalg import norm\n",
    "from time import time"
   ]
  },
  {
   "cell_type": "code",
   "execution_count": 2,
   "metadata": {},
   "outputs": [],
   "source": [
    "nlp = spacy.load('de_core_news_md', disable=['ner', 'parser'])"
   ]
  },
  {
   "cell_type": "code",
   "execution_count": 29,
   "metadata": {},
   "outputs": [],
   "source": [
    "model = Doc2Vec.load(\"model.model\")"
   ]
  },
  {
   "cell_type": "code",
   "execution_count": 24,
   "metadata": {},
   "outputs": [],
   "source": [
    "def lemma(doc):\n",
    "    txt = [token.lemma_ for token in doc if not token.is_stop]\n",
    "    if len(txt) > 2:\n",
    "        return ' '.join(txt)\n",
    "def clean_sentences(sentences):\n",
    "    tmp_sentences = [ re.sub(\"[^A-ZAAÖUa-zäöü#+']+\", ' ', sentence).lower() for sentence in sentences]\n",
    "    return [lemma(doc) for doc in nlp.pipe(tmp_sentences, batch_size=5000, n_threads=-1)]\n",
    "    "
   ]
  },
  {
   "cell_type": "code",
   "execution_count": 42,
   "metadata": {},
   "outputs": [],
   "source": [
    "sent1='''\n",
    "Für einen unserer Kunden suchen wir derzeit einen freiberuflichen Mitarbeiter, der die nachfolgenden Anforderungen erfüllt:\n",
    "\n",
    "Projektbeschreibung:\n",
    "Software Entwicklung im Rahmen einer Weiterentwicklung eines Odoo ERP samt Schnittstellen-Systemen in Kubernetes.\n",
    "\n",
    "Ihre Aufgaben:\n",
    "Betrieb und Weiterentwicklung einer Netzwerkarchitektur von ESB Routen mit Apache Camel\n",
    "Projektbezogene Softwareprogrammierung\n",
    "Weiterentwicklung des ERP Systems\n",
    "\n",
    "Ihr Profil:\n",
    "gute Erfahrung im Umgang mit XLST, XML, und Kubernetes\n",
    "gute bis sehr gute Erfahrung in der Java Programmierung (8)\n",
    "gute Kenntnisse in der Python und Groovy Programmierung\n",
    "Erfahrung im Umgang mit Build-Management-Tools (Maven und Kaniko) sowie Build und Deployment Pipelines\n",
    "Erfahrung im Handel und E-Commerce von Vorteil\n",
    "sehr gute Deutschkenntnisse\n",
    "\n",
    "Rahmenparameter:\n",
    "Einsatzort: Hamburg\n",
    "Dauer: asap - 3 Monate\n",
    "Auslastung: 4-5 Tage vor Ort\n",
    "'''"
   ]
  },
  {
   "cell_type": "code",
   "execution_count": 43,
   "metadata": {},
   "outputs": [],
   "source": [
    "sent2='''\n",
    "Tätigkeit:\n",
    "\n",
    "Projekt-/Aufgabenbeschreibung:\n",
    "• Programmierung / Implementierung / Customizing technischer Komponenten in Applikationen auf Basis der genutzten Technologien inkl. dazugehöriger Schnittstellen, Module und entsprechender Datenbanken unter Einhaltung der Standards des Auftraggebers (z.B. Nutzung der standardisierten Entwicklungsumgebungen und Programmierrichtlinien)\n",
    "• Beheben von Fehlern aus den Testphasen in den Applikationen / Komponenten\n",
    "• Dokumentation der technischen Komponenten\n",
    "• Erstellen von Systemdokumentationen\n",
    "• Erstellen von Lieferpaketen für die betreffenden Applikationen\n",
    "• Einrichten von Entwicklungsumgebungen incl. Continuous Integration\n",
    "• Durchführen von Code-Reviews, automatisierten Unit-Tests\n",
    "• Vorbereitung von Entscheidungsvorlagen zu technischen Themen\n",
    "\n",
    "\n",
    "Anforderungen:\n",
    "\n",
    "must have:\n",
    "• Mobile Software Entwicklung: Erfahrung in der SW-Implementierung im Bereich Android (Erfahrung in der Entwicklung mobiler, nativer Anwendungen)\n",
    "• Aktuelle Kenntnisse und Erfahrungen in der Anwendung folgender Technologien der Softwareentwicklung: Java, App-Entwicklung(Android), GIT, Gradle\n",
    "• Agile Methodenkenntnisse: Praktische Erfahrung in Methoden und Vorgehen nach SCRUM und sonstigen agilen Vorgehensweisen\n",
    "• Projektreferenzen zu o.g. Technologieschwerpunkten\n",
    "\n",
    "nice to have:\n",
    "• Teamarbeit und weitgehend selbstständiges Arbeiten an Aufgabenpaketen: Erfahrung in der Arbeit im Umfeld von mittleren Entwicklerteams, SW-Entwicklung im Pair\n",
    "• Architekturkenntnisse: Aktuelle Kenntnisse der Softwarearchitektur, besonders im Kontext des Designs und Entwicklung von mobilen Apps.\n",
    "• Sprachkenntnisse: Gute Sprachkenntnisse in Wort und Schrift in Polnisch und Deutsch\n",
    "• Zertifizierungen zu o.g. Technologieschwerpunkten\n",
    "• Zertifizierung als Certified Scrum Developer (CSD) oder vergleichbar\n",
    "'''"
   ]
  },
  {
   "cell_type": "code",
   "execution_count": null,
   "metadata": {},
   "outputs": [],
   "source": []
  },
  {
   "cell_type": "code",
   "execution_count": 44,
   "metadata": {},
   "outputs": [
    {
     "name": "stdout",
     "output_type": "stream",
     "text": [
      "Time to clean up everything: 0.040990352630615234 seconds\n",
      "Time to infer vector: 0.14799952507019043 seconds\n",
      "0.60132027\n",
      "Time to calculate cosine similarity: 0.0 seconds\n"
     ]
    }
   ],
   "source": [
    "t = time()\n",
    "clean_sents=clean_sentences([sent1, sent2])\n",
    "print('Time to clean up everything: {} seconds'.format(time() - t))\n",
    "t= time()\n",
    "a = model.infer_vector(clean_sents[0].split(),steps=500,alpha=0.025)\n",
    "b = model.infer_vector(clean_sents[1].split(),steps=500,alpha=0.025)\n",
    "print('Time to infer vector: {} seconds'.format(time() - t))\n",
    "t= time()\n",
    "cos_sim = dot(a, b)/(norm(a)*norm(b))\n",
    "print(cos_sim)\n",
    "print('Time to calculate cosine similarity: {} seconds'.format(time() - t))"
   ]
  },
  {
   "cell_type": "code",
   "execution_count": 45,
   "metadata": {},
   "outputs": [
    {
     "data": {
      "text/plain": [
       "['  kunden suchen derzeit freiberuflich mitarbeiter nachfolgend anforderungen erfüllen projektbeschreibung software entwicklung rahmen weiterentwicklung odoo erp samt schnittstellen systemen kubernetes aufgaben betrieb weiterentwicklung netzwerkarchitektur esb routen apache camel projektbezogene softwareprogrammierung weiterentwicklung erp systems profil erfahrung umgang xlst xml kubernetes erfahrung java programmierung kenntnisse python groovy programmierung erfahrung umgang build management tools maven kaniko build deployment pipelines erfahrung handel e commerce vorteil deutschkenntnisse rahmenparameter einsatzort hamburg dauer asap monate auslastung ort',\n",
       " '  tätigkeit projekt aufgabenbeschreibung programmierung implementierung customizing technisch komponenten applikationen basis genutzt technologien inkl dazugehörig schnittstellen module entsprechend datenbanken einhaltung standards auftraggebers z b nutzung standardisieren entwicklungsumgebungen programmierrichtlinien beheben fehlern testphasen applikationen komponenten dokumentation technisch komponenten erstellen systemdokumentationen erstellen lieferpaketen betreffend applikationen einrichten entwicklungsumgebungen incl continuous integration durchfahren code reviews automatisieren unit tests vorbereitung entscheidungsvorlagen technisch themen anforderungen must have mobil software entwicklung erfahrung sw implementierung bereich android erfahrung entwicklung mobil nativ anwendungen aktuell kenntnisse erfahrungen anwendung folgend technologien softwareentwicklung java app entwicklung android git gradle agil methodenkenntnisse praktische erfahrung methoden vorgehen scrum sonstig agil vorgehensweisen projektreferenzen o g technologieschwerpunkten nice to have teamarbeit weitgehend selbstständiges arbeiten aufgabenpaketen erfahrung arbeit umfeld mittler entwicklerteams sw entwicklung pair architekturkenntnisse aktuell kenntnisse softwarearchitektur kontext designs entwicklung mobil apps sprachkenntnisse sprachkenntnisse wort schrift polnisch deutschen zertifizierungen o g technologieschwerpunkten zertifizierung certified scrum developer csd vergleichbar']"
      ]
     },
     "execution_count": 45,
     "metadata": {},
     "output_type": "execute_result"
    }
   ],
   "source": [
    "clean_sents"
   ]
  },
  {
   "cell_type": "code",
   "execution_count": null,
   "metadata": {},
   "outputs": [],
   "source": []
  }
 ],
 "metadata": {
  "kernelspec": {
   "display_name": "Python 3",
   "language": "python",
   "name": "python3"
  },
  "language_info": {
   "codemirror_mode": {
    "name": "ipython",
    "version": 3
   },
   "file_extension": ".py",
   "mimetype": "text/x-python",
   "name": "python",
   "nbconvert_exporter": "python",
   "pygments_lexer": "ipython3",
   "version": "3.7.6"
  }
 },
 "nbformat": 4,
 "nbformat_minor": 4
}
